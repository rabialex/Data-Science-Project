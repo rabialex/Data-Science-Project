{
 "cells": [
  {
   "cell_type": "markdown",
   "metadata": {},
   "source": [
    "# Cleaning Oscar Data\n",
    "\n",
    "The oscar database was found on kaggle's website in the form of a csv file. The data in found in this file was used to create two dictionaries. A director dictionary storing the years a director recieved a Oscar nominations and the years a director won. The second dictionary stored a list of oscar nominated films based on the year it was nominated and the number of nominations. Given that some films have the same title as others. The dictionary of films that have been nominated stored the years that film was nominated. Some manual edits were required for some director names. Particular names with multiple spelling and/or special characters."
   ]
  },
  {
   "cell_type": "code",
   "execution_count": 1,
   "metadata": {},
   "outputs": [
    {
     "data": {
      "text/html": [
       "<div>\n",
       "<style scoped>\n",
       "    .dataframe tbody tr th:only-of-type {\n",
       "        vertical-align: middle;\n",
       "    }\n",
       "\n",
       "    .dataframe tbody tr th {\n",
       "        vertical-align: top;\n",
       "    }\n",
       "\n",
       "    .dataframe thead th {\n",
       "        text-align: right;\n",
       "    }\n",
       "</style>\n",
       "<table border=\"1\" class=\"dataframe\">\n",
       "  <thead>\n",
       "    <tr style=\"text-align: right;\">\n",
       "      <th></th>\n",
       "      <th>Year</th>\n",
       "      <th>Ceremony</th>\n",
       "      <th>Award</th>\n",
       "      <th>Winner</th>\n",
       "      <th>Name</th>\n",
       "      <th>Film</th>\n",
       "    </tr>\n",
       "  </thead>\n",
       "  <tbody>\n",
       "    <tr>\n",
       "      <th>9961</th>\n",
       "      <td>2015</td>\n",
       "      <td>88</td>\n",
       "      <td>Jean Hersholt Humanitarian Award</td>\n",
       "      <td>1.0</td>\n",
       "      <td>NaN</td>\n",
       "      <td>Debbie Reynolds</td>\n",
       "    </tr>\n",
       "    <tr>\n",
       "      <th>9962</th>\n",
       "      <td>2015</td>\n",
       "      <td>88</td>\n",
       "      <td>Honorary Award</td>\n",
       "      <td>1.0</td>\n",
       "      <td>NaN</td>\n",
       "      <td>Spike Lee</td>\n",
       "    </tr>\n",
       "    <tr>\n",
       "      <th>9963</th>\n",
       "      <td>2015</td>\n",
       "      <td>88</td>\n",
       "      <td>Honorary Award</td>\n",
       "      <td>1.0</td>\n",
       "      <td>NaN</td>\n",
       "      <td>Gena Rowlands</td>\n",
       "    </tr>\n",
       "    <tr>\n",
       "      <th>9964</th>\n",
       "      <td>2016</td>\n",
       "      <td>89</td>\n",
       "      <td>Directing</td>\n",
       "      <td>1.0</td>\n",
       "      <td>Damien Chazelle</td>\n",
       "      <td>La La Land</td>\n",
       "    </tr>\n",
       "    <tr>\n",
       "      <th>9965</th>\n",
       "      <td>2016</td>\n",
       "      <td>89</td>\n",
       "      <td>Directing</td>\n",
       "      <td>NaN</td>\n",
       "      <td>Mel Gibson</td>\n",
       "      <td>Hacksaw Ridge</td>\n",
       "    </tr>\n",
       "    <tr>\n",
       "      <th>9966</th>\n",
       "      <td>2016</td>\n",
       "      <td>89</td>\n",
       "      <td>Directing</td>\n",
       "      <td>NaN</td>\n",
       "      <td>Barry Jenkins</td>\n",
       "      <td>Moonlight</td>\n",
       "    </tr>\n",
       "    <tr>\n",
       "      <th>9967</th>\n",
       "      <td>2016</td>\n",
       "      <td>89</td>\n",
       "      <td>Directing</td>\n",
       "      <td>NaN</td>\n",
       "      <td>Kenneth Lonergan</td>\n",
       "      <td>Manchester by the Sea</td>\n",
       "    </tr>\n",
       "    <tr>\n",
       "      <th>9968</th>\n",
       "      <td>2016</td>\n",
       "      <td>89</td>\n",
       "      <td>Directing</td>\n",
       "      <td>NaN</td>\n",
       "      <td>Denis Villeneuve</td>\n",
       "      <td>Arrival</td>\n",
       "    </tr>\n",
       "  </tbody>\n",
       "</table>\n",
       "</div>"
      ],
      "text/plain": [
       "      Year  Ceremony                             Award  Winner  \\\n",
       "9961  2015        88  Jean Hersholt Humanitarian Award     1.0   \n",
       "9962  2015        88                    Honorary Award     1.0   \n",
       "9963  2015        88                    Honorary Award     1.0   \n",
       "9964  2016        89                         Directing     1.0   \n",
       "9965  2016        89                         Directing     NaN   \n",
       "9966  2016        89                         Directing     NaN   \n",
       "9967  2016        89                         Directing     NaN   \n",
       "9968  2016        89                         Directing     NaN   \n",
       "\n",
       "                  Name                   Film  \n",
       "9961               NaN        Debbie Reynolds  \n",
       "9962               NaN              Spike Lee  \n",
       "9963               NaN          Gena Rowlands  \n",
       "9964   Damien Chazelle             La La Land  \n",
       "9965        Mel Gibson          Hacksaw Ridge  \n",
       "9966     Barry Jenkins              Moonlight  \n",
       "9967  Kenneth Lonergan  Manchester by the Sea  \n",
       "9968  Denis Villeneuve                Arrival  "
      ]
     },
     "execution_count": 1,
     "metadata": {},
     "output_type": "execute_result"
    }
   ],
   "source": [
    "import pandas as pd\n",
    "import numpy as np\n",
    "import warnings\n",
    "warnings.filterwarnings('ignore')\n",
    "\n",
    "## oscar_database.csv found on Kaggle datasets\n",
    "oscarDF = pd.read_csv('data/kraggle_data/oscar_database.csv')\n",
    "oscarDF.tail(8)"
   ]
  },
  {
   "cell_type": "markdown",
   "metadata": {},
   "source": [
    "Given that the oscars occur in Feburary. It was decided to go with latter date. Therefore 1927/1928 will map to 1928."
   ]
  },
  {
   "cell_type": "code",
   "execution_count": 2,
   "metadata": {},
   "outputs": [],
   "source": [
    "year = oscarDF.Year.unique()\n",
    "year_int = range(1928, 2017)\n",
    "year_dict = dict(zip(year, year_int))\n",
    "\n",
    "oscarDF['Year'] = oscarDF.Year.map(year_dict)"
   ]
  },
  {
   "cell_type": "markdown",
   "metadata": {},
   "source": [
    "# Oscar Nominated Directors\n",
    "\n",
    "The subset of oscar data for nominated directors contained 439 rows. Some cleaning was required due to entries in the Name and Film columns being swapped for 50 entries. Also the dataset contained up to the awards from 2015 films, the directors nominated for 2016 films were added to the set. 15 directors names contained multiple spelling. For example Alejandro G Inarritu vs Alejandro Gonzales Inarritu. These directors name spelling were standardized to make indexing on them easier."
   ]
  },
  {
   "cell_type": "code",
   "execution_count": 3,
   "metadata": {},
   "outputs": [
    {
     "data": {
      "text/plain": [
       "(439, 6)"
      ]
     },
     "execution_count": 3,
     "metadata": {},
     "output_type": "execute_result"
    }
   ],
   "source": [
    "## Getting Oscar Nominated Directors\n",
    "Oscar_DirectorDF = oscarDF[oscarDF.Award == 'Directing']\n",
    "Oscar_DirectorDF.Winner = (Oscar_DirectorDF.Winner == 1.0)*1\n",
    "\n",
    "\n",
    "Oscar_DirectorDF['film'] = Oscar_DirectorDF.Film.str.strip()\n",
    "Oscar_DirectorDF['director'] = Oscar_DirectorDF.Name.str.strip()\n",
    "Oscar_DirectorDF.drop(['Film','Name'], axis=1,inplace=True)\n",
    "\n",
    "## Set index\n",
    "Oscar_DirectorDF.index = range(len(Oscar_DirectorDF))\n",
    "\n",
    "Oscar_DirectorDF.shape"
   ]
  },
  {
   "cell_type": "code",
   "execution_count": 4,
   "metadata": {},
   "outputs": [
    {
     "data": {
      "text/plain": [
       "225"
      ]
     },
     "execution_count": 4,
     "metadata": {},
     "output_type": "execute_result"
    }
   ],
   "source": [
    "## Director dictionary with list of years nominated and list of years won\n",
    "director_dict = {}\n",
    "\n",
    "for d in Oscar_DirectorDF.director.unique():\n",
    "    tempDF = Oscar_DirectorDF[Oscar_DirectorDF['director']==d]\n",
    "    years_nominated = tempDF.Year.values\n",
    "    tempDF = tempDF[tempDF['Winner']==1]\n",
    "    years_won = tempDF.Year.values\n",
    "    director_dict[d] = {'oscar_noms':years_nominated,'oscar_wins':years_won}\n",
    "    \n",
    "len(director_dict)"
   ]
  },
  {
   "cell_type": "markdown",
   "metadata": {},
   "source": [
    "## Main Movie Data\n",
    "The main dataframe comes from a script used to retrieve movie data from Box Office Mojo webpage. The data was stored as a pickle file "
   ]
  },
  {
   "cell_type": "code",
   "execution_count": 5,
   "metadata": {},
   "outputs": [
    {
     "data": {
      "text/plain": [
       "Index(['1-title', '2-release_date', '3-closing_date', 'budget', 'director',\n",
       "       'distributor', 'dom_total_gross', 'domestic_total_adj_gross', 'genre',\n",
       "       'intl_total_gross', 'oscar_noms', 'oscar_wins', 'producers', 'rating',\n",
       "       'runtime_mins', 'theaters', 'url'],\n",
       "      dtype='object')"
      ]
     },
     "execution_count": 5,
     "metadata": {},
     "output_type": "execute_result"
    }
   ],
   "source": [
    "# storing the data from the picklefile to a dataframe\n",
    "import pickle\n",
    "from datetime import datetime\n",
    "\n",
    "filename = 'data/bom_data/all-movie-data.pkl'\n",
    "picklefile = open(filename, 'rb')\n",
    "all_movies_data = pickle.load(picklefile, encoding='bytes')\n",
    "\n",
    "mainDF = pd.DataFrame(all_movies_data)\n",
    "mainDF.columns"
   ]
  },
  {
   "cell_type": "code",
   "execution_count": 6,
   "metadata": {},
   "outputs": [
    {
     "data": {
      "text/plain": [
       "(17748, 17)"
      ]
     },
     "execution_count": 6,
     "metadata": {},
     "output_type": "execute_result"
    }
   ],
   "source": [
    "# Renaming columns\n",
    "mainDF.rename(columns = {'1-title': 'title', \n",
    "                         '2-release_date': 'release_date', \n",
    "                         '3-closing_date': 'closing_date'}, inplace = True)\n",
    "mainDF.shape"
   ]
  },
  {
   "cell_type": "code",
   "execution_count": 7,
   "metadata": {},
   "outputs": [],
   "source": [
    "# Dropping 'url' column as it's not required\n",
    "mainDF.drop('url', inplace=True, axis=1)\n",
    "\n",
    "# Grouping a vast list of subgenres into a few main genres\n",
    "by_genre = mainDF.groupby('genre')"
   ]
  },
  {
   "cell_type": "code",
   "execution_count": 8,
   "metadata": {},
   "outputs": [],
   "source": [
    "# Esxtracting a movie's release season from it's release date\n",
    "def get_season(date):\n",
    "    '''Return season given month as int.'''\n",
    "    months = (range(1, 13))\n",
    "    seasons = ['winter', 'winter', 'spring', 'spring', \n",
    "           'summer', 'summer', 'summer', 'summer', \n",
    "           'fall', 'fall', 'holiday', 'holiday']\n",
    "    seasons = dict(zip(months, seasons))\n",
    "    try:\n",
    "        return seasons[date.month]\n",
    "    except:\n",
    "        return ''\n",
    "    \n",
    "# map raw genres to simple genres\n",
    "def get_simple_genre(g):\n",
    "    '''Recategorize raw genre into simple genre.'''\n",
    "    raw_genres = tuple(by_genre.count().index)\n",
    "    simple_genres = ['Act_Adven', 'Act_Adven', 'Act_Adven', 'Act_Adven', 'Act_Adven', 'Act_Adven', \n",
    "                 'Act_Adven', 'Act_Adven', 'Act_Adven', 'Act_Adven', \n",
    "                 'Animation', 'Comedy', 'Comedy', 'Comedy', 'Other', \n",
    "                 'Crime_Thriller', 'Crime_Thriller', 'Crime_Thriller', 'Crime_Thriller', \n",
    "                 'Documentary', 'Drama', 'Drama', 'Family', 'Family', 'Family', 'Fantasy_Scifi', 'Fantasy_Scifi', \n",
    "                 'Fantasy_Scifi', 'Foreign', 'Foreign', 'Foreign', 'Historical', 'Historical', \n",
    "                 'Horror', 'Horror', 'Horror', 'Other', 'Musical', 'Musical', 'None', \n",
    "                 'Historical', 'Historical', 'Historical', 'Historical', 'Historical', \n",
    "                 'Romance', 'Romance', 'Romance', 'Romance', 'Fantasy_Scifi', 'Fantasy_Scifi', \n",
    "                 'Fantasy_Scifi', 'Fantasy_Scifi', 'Fantasy_Scifi', 'Fantasy_Scifi', \n",
    "                 'Fantasy_Scifi', 'Sports', 'Sports', 'Sports', 'Sports',  'Crime_Thriller', \n",
    "                 'None', 'War', 'War', 'War', 'Western', 'Western']\n",
    "    genres = dict(zip(raw_genres, simple_genres))\n",
    "    try:\n",
    "        return genres[g]\n",
    "    except:\n",
    "        return ''\n",
    "\n",
    "# clean up ratings\n",
    "# Replacing 'Unknown', 'Unrated', 'None', 'Not Yet Rated' by empty strings\n",
    "def get_clean_rating(r):\n",
    "    rm_ratings = ['Unknown', 'Unrated', 'None', 'Not Yet Rated']\n",
    "    return '' if r in rm_ratings else r\n",
    "\n",
    "def recat(df, func, new_col, old_col):\n",
    "    '''Recategorize variable in new column based on data in old col\n",
    "    and provided function. \n",
    "    Args: \n",
    "    df -- data frame\n",
    "    func -- function to apply\n",
    "    new_col (str) -- name of new column (to store result of function)\n",
    "    old_col (str) -- name of old column (on which to apply function)\n",
    "    '''\n",
    "    df[new_col] = df.loc[:, old_col].apply(func) \n",
    "    \n",
    "    \n",
    "recat(mainDF, get_season, 'season', 'release_date')\n",
    "recat(mainDF, get_clean_rating, 'clean_rating', 'rating')\n",
    "recat(mainDF, get_simple_genre, 'new_genre', 'genre')"
   ]
  },
  {
   "cell_type": "markdown",
   "metadata": {},
   "source": [
    "Using the release and close date the number of days a film was in theaters was added as a new feature."
   ]
  },
  {
   "cell_type": "code",
   "execution_count": 9,
   "metadata": {},
   "outputs": [],
   "source": [
    "# calculating the number of days a movie ran in theaters\n",
    "start_date = mainDF.release_date\n",
    "end_date = mainDF.closing_date\n",
    "days_in_theater = (end_date-start_date).dt.days\n",
    "\n",
    "mainDF['days_in_theater'] = days_in_theater"
   ]
  },
  {
   "cell_type": "code",
   "execution_count": 10,
   "metadata": {},
   "outputs": [],
   "source": [
    "# Extracting and adding year of release as a new feature\n",
    "year = [t.year for t in pd.to_datetime(start_date)]\n",
    "mainDF['year'] = year"
   ]
  },
  {
   "cell_type": "markdown",
   "metadata": {},
   "source": [
    "# One Hot Encoding Ratings and Season:"
   ]
  },
  {
   "cell_type": "raw",
   "metadata": {},
   "source": [
    "Since we have a following categorial columns  - season, clean_rating and the number of \n",
    "categories in these columns are not so large in number, we'''ll use one hot encoder to perform “binarization” of the category and include it as a feature to train the model.\n",
    "Example:\n",
    "Suppose you have ‘flower’ feature which can take values ‘daffodil’, ‘lily’, and ‘rose’. One hot encoding converts ‘flower’ feature to three features, ‘is_daffodil’, ‘is_lily’, and ‘is_rose’ which all are binary."
   ]
  },
  {
   "cell_type": "code",
   "execution_count": 11,
   "metadata": {},
   "outputs": [
    {
     "data": {
      "text/html": [
       "<div>\n",
       "<style>\n",
       "    .dataframe thead tr:only-child th {\n",
       "        text-align: right;\n",
       "    }\n",
       "\n",
       "    .dataframe thead th {\n",
       "        text-align: left;\n",
       "    }\n",
       "\n",
       "    .dataframe tbody tr th {\n",
       "        vertical-align: top;\n",
       "    }\n",
       "</style>\n",
       "<table border=\"1\" class=\"dataframe\">\n",
       "  <thead>\n",
       "    <tr style=\"text-align: right;\">\n",
       "      <th></th>\n",
       "      <th>title</th>\n",
       "      <th>release_date</th>\n",
       "      <th>closing_date</th>\n",
       "      <th>budget</th>\n",
       "      <th>director</th>\n",
       "      <th>distributor</th>\n",
       "      <th>dom_total_gross</th>\n",
       "      <th>domestic_total_adj_gross</th>\n",
       "      <th>genre</th>\n",
       "      <th>intl_total_gross</th>\n",
       "      <th>...</th>\n",
       "      <th></th>\n",
       "      <th>PG-13</th>\n",
       "      <th>R</th>\n",
       "      <th>PG</th>\n",
       "      <th>G</th>\n",
       "      <th>GP</th>\n",
       "      <th>M/PG</th>\n",
       "      <th>NC-17</th>\n",
       "      <th>M</th>\n",
       "      <th>X</th>\n",
       "    </tr>\n",
       "  </thead>\n",
       "  <tbody>\n",
       "    <tr>\n",
       "      <th>0</th>\n",
       "      <td>The A-Team</td>\n",
       "      <td>2010-06-11</td>\n",
       "      <td>2010-09-16</td>\n",
       "      <td>110000000.0</td>\n",
       "      <td>[Joe Carnahan]</td>\n",
       "      <td>Fox</td>\n",
       "      <td>77222099.0</td>\n",
       "      <td>86741300.0</td>\n",
       "      <td>Action</td>\n",
       "      <td>177238796.0</td>\n",
       "      <td>...</td>\n",
       "      <td>0</td>\n",
       "      <td>1</td>\n",
       "      <td>0</td>\n",
       "      <td>0</td>\n",
       "      <td>0</td>\n",
       "      <td>0</td>\n",
       "      <td>0</td>\n",
       "      <td>0</td>\n",
       "      <td>0</td>\n",
       "      <td>0</td>\n",
       "    </tr>\n",
       "    <tr>\n",
       "      <th>1</th>\n",
       "      <td>A.C.O.D.</td>\n",
       "      <td>2013-10-04</td>\n",
       "      <td>2013-11-07</td>\n",
       "      <td>NaN</td>\n",
       "      <td></td>\n",
       "      <td>The Film Arcade</td>\n",
       "      <td>175705.0</td>\n",
       "      <td>187900.0</td>\n",
       "      <td>Comedy</td>\n",
       "      <td>NaN</td>\n",
       "      <td>...</td>\n",
       "      <td>0</td>\n",
       "      <td>1</td>\n",
       "      <td>0</td>\n",
       "      <td>0</td>\n",
       "      <td>0</td>\n",
       "      <td>0</td>\n",
       "      <td>0</td>\n",
       "      <td>0</td>\n",
       "      <td>0</td>\n",
       "      <td>0</td>\n",
       "    </tr>\n",
       "    <tr>\n",
       "      <th>2</th>\n",
       "      <td>A.I. Artificial Intelligence</td>\n",
       "      <td>2001-06-29</td>\n",
       "      <td>NaT</td>\n",
       "      <td>100000000.0</td>\n",
       "      <td>[Steven Spielberg]</td>\n",
       "      <td>Warner Bros.</td>\n",
       "      <td>78616689.0</td>\n",
       "      <td>124036600.0</td>\n",
       "      <td>Sci-Fi</td>\n",
       "      <td>235926552.0</td>\n",
       "      <td>...</td>\n",
       "      <td>0</td>\n",
       "      <td>1</td>\n",
       "      <td>0</td>\n",
       "      <td>0</td>\n",
       "      <td>0</td>\n",
       "      <td>0</td>\n",
       "      <td>0</td>\n",
       "      <td>0</td>\n",
       "      <td>0</td>\n",
       "      <td>0</td>\n",
       "    </tr>\n",
       "    <tr>\n",
       "      <th>3</th>\n",
       "      <td>A Aa</td>\n",
       "      <td>2016-06-01</td>\n",
       "      <td>2016-06-16</td>\n",
       "      <td>NaN</td>\n",
       "      <td></td>\n",
       "      <td>Blue Sky Cinema</td>\n",
       "      <td>2313043.0</td>\n",
       "      <td>2366000.0</td>\n",
       "      <td>Comedy / Drama</td>\n",
       "      <td>NaN</td>\n",
       "      <td>...</td>\n",
       "      <td>1</td>\n",
       "      <td>0</td>\n",
       "      <td>0</td>\n",
       "      <td>0</td>\n",
       "      <td>0</td>\n",
       "      <td>0</td>\n",
       "      <td>0</td>\n",
       "      <td>0</td>\n",
       "      <td>0</td>\n",
       "      <td>0</td>\n",
       "    </tr>\n",
       "    <tr>\n",
       "      <th>4</th>\n",
       "      <td>Aaja Nachle</td>\n",
       "      <td>2007-11-30</td>\n",
       "      <td>2007-12-20</td>\n",
       "      <td>NaN</td>\n",
       "      <td></td>\n",
       "      <td>Yash Raj</td>\n",
       "      <td>484108.0</td>\n",
       "      <td>628400.0</td>\n",
       "      <td>Foreign</td>\n",
       "      <td>6773493.0</td>\n",
       "      <td>...</td>\n",
       "      <td>1</td>\n",
       "      <td>0</td>\n",
       "      <td>0</td>\n",
       "      <td>0</td>\n",
       "      <td>0</td>\n",
       "      <td>0</td>\n",
       "      <td>0</td>\n",
       "      <td>0</td>\n",
       "      <td>0</td>\n",
       "      <td>0</td>\n",
       "    </tr>\n",
       "  </tbody>\n",
       "</table>\n",
       "<p>5 rows × 36 columns</p>\n",
       "</div>"
      ],
      "text/plain": [
       "                          title release_date closing_date       budget  \\\n",
       "0                    The A-Team   2010-06-11   2010-09-16  110000000.0   \n",
       "1                      A.C.O.D.   2013-10-04   2013-11-07          NaN   \n",
       "2  A.I. Artificial Intelligence   2001-06-29          NaT  100000000.0   \n",
       "3                          A Aa   2016-06-01   2016-06-16          NaN   \n",
       "4                   Aaja Nachle   2007-11-30   2007-12-20          NaN   \n",
       "\n",
       "             director      distributor  dom_total_gross  \\\n",
       "0      [Joe Carnahan]              Fox       77222099.0   \n",
       "1                      The Film Arcade         175705.0   \n",
       "2  [Steven Spielberg]     Warner Bros.       78616689.0   \n",
       "3                      Blue Sky Cinema        2313043.0   \n",
       "4                             Yash Raj         484108.0   \n",
       "\n",
       "   domestic_total_adj_gross           genre  intl_total_gross ...     PG-13  \\\n",
       "0                86741300.0          Action       177238796.0 ...  0      1   \n",
       "1                  187900.0          Comedy               NaN ...  0      1   \n",
       "2               124036600.0          Sci-Fi       235926552.0 ...  0      1   \n",
       "3                 2366000.0  Comedy / Drama               NaN ...  1      0   \n",
       "4                  628400.0         Foreign         6773493.0 ...  1      0   \n",
       "\n",
       "   R PG  G  GP M/PG NC-17  M  X  \n",
       "0  0  0  0   0    0     0  0  0  \n",
       "1  0  0  0   0    0     0  0  0  \n",
       "2  0  0  0   0    0     0  0  0  \n",
       "3  0  0  0   0    0     0  0  0  \n",
       "4  0  0  0   0    0     0  0  0  \n",
       "\n",
       "[5 rows x 36 columns]"
      ]
     },
     "execution_count": 11,
     "metadata": {},
     "output_type": "execute_result"
    }
   ],
   "source": [
    "\n",
    "for column in mainDF['season'].unique():\n",
    "    mainDF[column] =mainDF['season'].apply(lambda x: 1 if x == column else 0)\n",
    "\n",
    "for column in mainDF['clean_rating'].unique():\n",
    "    mainDF[column] = mainDF['clean_rating'].apply(lambda x: 1 if x == column else 0)\n",
    "    \n",
    "mainDF.head()"
   ]
  },
  {
   "cell_type": "code",
   "execution_count": 12,
   "metadata": {},
   "outputs": [
    {
     "data": {
      "text/plain": [
       "Index(['title', 'release_date', 'closing_date', 'budget', 'director',\n",
       "       'distributor', 'dom_total_gross', 'domestic_total_adj_gross', 'genre',\n",
       "       'intl_total_gross', 'oscar_noms', 'oscar_wins', 'producers', 'rating',\n",
       "       'runtime_mins', 'theaters', 'season', 'clean_rating', 'new_genre',\n",
       "       'days_in_theater', 'year', 'summer', 'fall', 'holiday', 'winter',\n",
       "       'spring', '', 'PG-13', 'R', 'PG', 'G', 'GP', 'M/PG', 'NC-17', 'M', 'X'],\n",
       "      dtype='object')"
      ]
     },
     "execution_count": 12,
     "metadata": {},
     "output_type": "execute_result"
    }
   ],
   "source": [
    "mainDF.columns"
   ]
  },
  {
   "cell_type": "code",
   "execution_count": 13,
   "metadata": {},
   "outputs": [],
   "source": [
    "# Dropping unnecessary columns \n",
    "drop_columns =['closing_date','intl_total_gross','X', 'NC-17', 'M','','season']\n",
    "## The Dataframe contains movies with mature rating, which will not be included in the final dataframe. \n",
    "mainDF = mainDF.drop(drop_columns, axis=1)"
   ]
  },
  {
   "cell_type": "markdown",
   "metadata": {},
   "source": [
    "Films with  Mature rating were dropped from the dataset. Given that these films are never considered for the oscars. "
   ]
  },
  {
   "cell_type": "code",
   "execution_count": 14,
   "metadata": {},
   "outputs": [],
   "source": [
    "rating_drop = ['Unknown', 'Unrated', 'None', 'Not Yet Rated']\n",
    "mainDF = mainDF[mainDF['rating']!=rating_drop[0]]\n",
    "mainDF = mainDF[mainDF['rating']!=rating_drop[1]]\n",
    "mainDF = mainDF[mainDF['rating']!=rating_drop[2]]\n",
    "mainDF = mainDF[mainDF['rating']!=rating_drop[3]]"
   ]
  },
  {
   "cell_type": "code",
   "execution_count": 15,
   "metadata": {},
   "outputs": [
    {
     "data": {
      "text/plain": [
       "(11206, 29)"
      ]
     },
     "execution_count": 15,
     "metadata": {},
     "output_type": "execute_result"
    }
   ],
   "source": [
    "mainDF.shape"
   ]
  },
  {
   "cell_type": "markdown",
   "metadata": {},
   "source": [
    "# Common Directors from both dataframes\n",
    "\n",
    "The Following code was used to help add missing oscar directors to the main dataframe. A new csv file was created to perform some manual changes. There ws no unique identification for each director between the two data sets. The list of directors in the main dataframe was queried for matches each oscar nominated director. Similar to cleaning the oscar nominated directors, there were many inconsistanceys in the spelling of a name. This required manual changes to the dataset. "
   ]
  },
  {
   "cell_type": "code",
   "execution_count": 16,
   "metadata": {},
   "outputs": [],
   "source": [
    "# ## Set of director from main dataframe\n",
    "# cleanedDF = pd.read_csv('manual_cleaned_added director.csv',encoding='utf-8')\n",
    "# movie_director = cleanedDF.director.astype(str).tolist()\n",
    "# string_remove = [\"'\",\"[\",\"]\",'\"']\n",
    "\n",
    "# def remove_char(L, remove):\n",
    "#     for i in range(len(L)):\n",
    "#         s = L[i]\n",
    "#         for ch in remove:\n",
    "#             if ch in s:\n",
    "#                 s = s.replace(ch,\"\")\n",
    "#         L[i] = s\n",
    "#     return L\n",
    "\n",
    "# movie_director = set(remove_char(movie_director,string_remove))\n",
    "# movie_director.remove('')"
   ]
  },
  {
   "cell_type": "code",
   "execution_count": 17,
   "metadata": {},
   "outputs": [],
   "source": [
    "# ## Set of common directors between the two dataframes\n",
    "# oscar_director = set(Oscar_DirectorDF.director)\n",
    "# common_director = set.intersection(oscar_director, movie_director) \n",
    "# len(common_director)"
   ]
  },
  {
   "cell_type": "code",
   "execution_count": 18,
   "metadata": {},
   "outputs": [],
   "source": [
    "# missing_directors = set.difference(oscar_director,movie_director) ## set of the 84 missing directors\n",
    "\n",
    "# possible_matches = {}\n",
    "\n",
    "# for md in missing_directors:\n",
    "    \n",
    "#     for d in movie_director:\n",
    "        \n",
    "#         a = md.split(\" \")\n",
    "#         b = d.split(\" \")\n",
    "#         inter = list(set(b).intersection(a))\n",
    "#         if len(inter)>0:\n",
    "\n",
    "#             if md in possible_matches.keys():\n",
    "#                 possible_matches[md].append(d)\n",
    "#             else:\n",
    "#                 possible_matches[md] = [d]\n",
    "        \n",
    "# len(possible_matches)\n",
    "\n",
    "# ##mainDF.to_csv('manual_clean2.csv', encoding='utf-8' )"
   ]
  },
  {
   "cell_type": "code",
   "execution_count": 19,
   "metadata": {},
   "outputs": [
    {
     "data": {
      "text/plain": [
       "(11331, 29)"
      ]
     },
     "execution_count": 19,
     "metadata": {},
     "output_type": "execute_result"
    }
   ],
   "source": [
    "# loading the manually cleaned director's data into a datframe\n",
    "mainDF2 = pd.read_csv(\"data/final_clean_data/manual_cleaned_added director.csv\",encoding='utf-8') \n",
    "mainDF2.shape"
   ]
  },
  {
   "cell_type": "markdown",
   "metadata": {},
   "source": [
    "# Filling in missing  Oscar Nomination to movies"
   ]
  },
  {
   "cell_type": "code",
   "execution_count": 20,
   "metadata": {},
   "outputs": [
    {
     "data": {
      "text/plain": [
       "1263"
      ]
     },
     "execution_count": 20,
     "metadata": {},
     "output_type": "execute_result"
    }
   ],
   "source": [
    "# Finding the number of movies having an oscar nominations\n",
    "len(mainDF2[mainDF2['oscar_noms']>0])"
   ]
  },
  {
   "cell_type": "code",
   "execution_count": 21,
   "metadata": {},
   "outputs": [
    {
     "data": {
      "text/plain": [
       "638"
      ]
     },
     "execution_count": 21,
     "metadata": {},
     "output_type": "execute_result"
    }
   ],
   "source": [
    "nominated_films = set(oscarDF.Film)\n",
    "nominated_films.update(oscarDF.Name)\n",
    "nominated_films = nominated_films.intersection(mainDF2.title)\n",
    "nominated_films.remove(np.nan)\n",
    "\n",
    "len(nominated_films)"
   ]
  },
  {
   "cell_type": "code",
   "execution_count": 22,
   "metadata": {},
   "outputs": [],
   "source": [
    "# Making a dict of films which contains information like number of nominations and the number of \n",
    "# nominations it recieved till that year\n",
    "# dict format example:\n",
    "# nom_dict[\"titanic\"] ={'year': 1991, \"noms\": 3}\n",
    "nom_dict = {}\n",
    "for f in nominated_films:\n",
    "    \n",
    "    noms = len(oscarDF[oscarDF['Film']==f].Year.values)\n",
    "    year = oscarDF[oscarDF['Film']==f].Year.values\n",
    "    if noms == 0:\n",
    "        noms = len(oscarDF[oscarDF['Name']==f].Year.values)\n",
    "        year = oscarDF[oscarDF['Name']==f].Year.values\n",
    "    \n",
    "    nom_dict[f] ={'year':year[0],'noms': noms}"
   ]
  },
  {
   "cell_type": "code",
   "execution_count": 23,
   "metadata": {},
   "outputs": [],
   "source": [
    "'''\n",
    "Using the nom_dict to update the number of oscar nominations a movie recieved by querying the \n",
    "dict by film title and release year\n",
    "'''\n",
    "for t in nominated_films:\n",
    "    if t in nom_dict.keys():\n",
    "        \n",
    "        df = mainDF2[mainDF2['title']==t]\n",
    "        oscar_info = nom_dict[t]\n",
    "        \n",
    "        for i in range(len(df)):\n",
    "            \n",
    "            row = df.iloc[i]\n",
    "            year =int(row.year)\n",
    "            n = row.oscar_noms\n",
    "            \n",
    "            if year == oscar_info['year']:\n",
    "            \n",
    "                if n ==0:\n",
    "\n",
    "                    mainDF2['oscar_noms'][df.index[i]]= oscar_info['noms']\n",
    "                    "
   ]
  },
  {
   "cell_type": "code",
   "execution_count": 24,
   "metadata": {},
   "outputs": [
    {
     "data": {
      "text/plain": [
       "1354"
      ]
     },
     "execution_count": 24,
     "metadata": {},
     "output_type": "execute_result"
    }
   ],
   "source": [
    "len(mainDF2[mainDF2['oscar_noms']>0])"
   ]
  },
  {
   "cell_type": "markdown",
   "metadata": {},
   "source": [
    "# Adding director reputation "
   ]
  },
  {
   "cell_type": "markdown",
   "metadata": {},
   "source": [
    "In this section we will add two columns 'director_prev_nom' and 'director_prev_win' to the dataframe.We'll than later use this two columns to analyse how a director's previous oscar nominations and wins affect a movie's chance of getting nominated.\n",
    "1. Oscar_DirectorDF - contains the all the directors that have been nominated or won an oscar atleast once.\n",
    "2. filmDirectors - contains all the directors of the films that are in our main dataframe.\n",
    "\n",
    "We'll query the Oscar_DirectorDF by the director's name and movie year to get a count of the nominations and wins a director has recieved upto the movie's release year and update this info in the main dataframe.\n",
    "\n",
    "After all the processing, we are left with 197 directors which have been nominated or won an oscar atleast once."
   ]
  },
  {
   "cell_type": "code",
   "execution_count": 25,
   "metadata": {},
   "outputs": [],
   "source": [
    "mainDF2['director_prev_nom'] = pd.Series([0 for x in range(len(mainDF2.index))])\n",
    "mainDF2['director_prev_win'] = pd.Series([0 for x in range(len(mainDF2.index))])"
   ]
  },
  {
   "cell_type": "code",
   "execution_count": 26,
   "metadata": {},
   "outputs": [],
   "source": [
    "oscarDirectors = set(Oscar_DirectorDF.director) \n",
    "filmDirectors = mainDF2.director.fillna('0')"
   ]
  },
  {
   "cell_type": "code",
   "execution_count": 27,
   "metadata": {},
   "outputs": [],
   "source": [
    "string_remove = [\"'\",\"[\",\"]\",'\"']\n",
    "def remove_char(L, remove):\n",
    "    for i in L.index:\n",
    "        s = L[i]\n",
    "        for ch in remove:\n",
    "            if ch in s:\n",
    "                s = s.replace(ch,\"\")\n",
    "        L[i] = s\n",
    "    return L\n",
    "\n",
    "# Removing junk characters from director's names for better matching\n",
    "directors = remove_char(filmDirectors, string_remove)"
   ]
  },
  {
   "cell_type": "code",
   "execution_count": 28,
   "metadata": {},
   "outputs": [
    {
     "data": {
      "text/plain": [
       "197"
      ]
     },
     "execution_count": 28,
     "metadata": {},
     "output_type": "execute_result"
    }
   ],
   "source": [
    "#finding the directors that have been nominated oe won an oscar out of all the directors\n",
    "film_directors = set(directors)\n",
    "common_directors = set.intersection(film_directors, oscarDirectors)\n",
    "len(common_directors)"
   ]
  },
  {
   "cell_type": "code",
   "execution_count": 29,
   "metadata": {},
   "outputs": [
    {
     "data": {
      "text/html": [
       "<div>\n",
       "<style>\n",
       "    .dataframe thead tr:only-child th {\n",
       "        text-align: right;\n",
       "    }\n",
       "\n",
       "    .dataframe thead th {\n",
       "        text-align: left;\n",
       "    }\n",
       "\n",
       "    .dataframe tbody tr th {\n",
       "        vertical-align: top;\n",
       "    }\n",
       "</style>\n",
       "<table border=\"1\" class=\"dataframe\">\n",
       "  <thead>\n",
       "    <tr style=\"text-align: right;\">\n",
       "      <th></th>\n",
       "      <th>title</th>\n",
       "      <th>release_date</th>\n",
       "      <th>budget</th>\n",
       "      <th>director</th>\n",
       "      <th>distributor</th>\n",
       "      <th>dom_total_gross</th>\n",
       "      <th>domestic_total_adj_gross</th>\n",
       "      <th>genre</th>\n",
       "      <th>oscar_noms</th>\n",
       "      <th>oscar_wins</th>\n",
       "      <th>...</th>\n",
       "      <th>winter</th>\n",
       "      <th>spring</th>\n",
       "      <th>PG-13</th>\n",
       "      <th>R</th>\n",
       "      <th>PG</th>\n",
       "      <th>G</th>\n",
       "      <th>GP</th>\n",
       "      <th>M/PG</th>\n",
       "      <th>director_prev_nom</th>\n",
       "      <th>director_prev_win</th>\n",
       "    </tr>\n",
       "  </thead>\n",
       "  <tbody>\n",
       "    <tr>\n",
       "      <th>0</th>\n",
       "      <td>The A-Team</td>\n",
       "      <td>6/11/2010</td>\n",
       "      <td>110000000.0</td>\n",
       "      <td>Joe Carnahan</td>\n",
       "      <td>Fox</td>\n",
       "      <td>77222099.0</td>\n",
       "      <td>86741300.0</td>\n",
       "      <td>Action</td>\n",
       "      <td>0</td>\n",
       "      <td>0.0</td>\n",
       "      <td>...</td>\n",
       "      <td>0</td>\n",
       "      <td>0</td>\n",
       "      <td>1</td>\n",
       "      <td>0</td>\n",
       "      <td>0</td>\n",
       "      <td>0</td>\n",
       "      <td>0</td>\n",
       "      <td>0</td>\n",
       "      <td>0</td>\n",
       "      <td>0</td>\n",
       "    </tr>\n",
       "    <tr>\n",
       "      <th>1</th>\n",
       "      <td>A.C.O.D.</td>\n",
       "      <td>10/4/2013</td>\n",
       "      <td>NaN</td>\n",
       "      <td>0</td>\n",
       "      <td>The Film Arcade</td>\n",
       "      <td>175705.0</td>\n",
       "      <td>187900.0</td>\n",
       "      <td>Comedy</td>\n",
       "      <td>0</td>\n",
       "      <td>0.0</td>\n",
       "      <td>...</td>\n",
       "      <td>0</td>\n",
       "      <td>0</td>\n",
       "      <td>1</td>\n",
       "      <td>0</td>\n",
       "      <td>0</td>\n",
       "      <td>0</td>\n",
       "      <td>0</td>\n",
       "      <td>0</td>\n",
       "      <td>0</td>\n",
       "      <td>0</td>\n",
       "    </tr>\n",
       "    <tr>\n",
       "      <th>2</th>\n",
       "      <td>A.I. Artificial Intelligence</td>\n",
       "      <td>6/29/2001</td>\n",
       "      <td>100000000.0</td>\n",
       "      <td>Steven Spielberg</td>\n",
       "      <td>Warner Bros.</td>\n",
       "      <td>78616689.0</td>\n",
       "      <td>124036600.0</td>\n",
       "      <td>Sci-Fi</td>\n",
       "      <td>2</td>\n",
       "      <td>0.0</td>\n",
       "      <td>...</td>\n",
       "      <td>0</td>\n",
       "      <td>0</td>\n",
       "      <td>1</td>\n",
       "      <td>0</td>\n",
       "      <td>0</td>\n",
       "      <td>0</td>\n",
       "      <td>0</td>\n",
       "      <td>0</td>\n",
       "      <td>5</td>\n",
       "      <td>2</td>\n",
       "    </tr>\n",
       "    <tr>\n",
       "      <th>3</th>\n",
       "      <td>Abandon</td>\n",
       "      <td>10/18/2002</td>\n",
       "      <td>25000000.0</td>\n",
       "      <td>Stephen Gaghan</td>\n",
       "      <td>Paramount</td>\n",
       "      <td>10727683.0</td>\n",
       "      <td>16488500.0</td>\n",
       "      <td>Thriller</td>\n",
       "      <td>0</td>\n",
       "      <td>0.0</td>\n",
       "      <td>...</td>\n",
       "      <td>0</td>\n",
       "      <td>0</td>\n",
       "      <td>1</td>\n",
       "      <td>0</td>\n",
       "      <td>0</td>\n",
       "      <td>0</td>\n",
       "      <td>0</td>\n",
       "      <td>0</td>\n",
       "      <td>0</td>\n",
       "      <td>0</td>\n",
       "    </tr>\n",
       "    <tr>\n",
       "      <th>4</th>\n",
       "      <td>The Abandoned</td>\n",
       "      <td>2/23/2007</td>\n",
       "      <td>NaN</td>\n",
       "      <td>0</td>\n",
       "      <td>After Dark Films</td>\n",
       "      <td>1331137.0</td>\n",
       "      <td>1727800.0</td>\n",
       "      <td>Horror</td>\n",
       "      <td>0</td>\n",
       "      <td>0.0</td>\n",
       "      <td>...</td>\n",
       "      <td>1</td>\n",
       "      <td>0</td>\n",
       "      <td>0</td>\n",
       "      <td>1</td>\n",
       "      <td>0</td>\n",
       "      <td>0</td>\n",
       "      <td>0</td>\n",
       "      <td>0</td>\n",
       "      <td>0</td>\n",
       "      <td>0</td>\n",
       "    </tr>\n",
       "  </tbody>\n",
       "</table>\n",
       "<p>5 rows × 31 columns</p>\n",
       "</div>"
      ],
      "text/plain": [
       "                          title release_date       budget          director  \\\n",
       "0                    The A-Team    6/11/2010  110000000.0      Joe Carnahan   \n",
       "1                      A.C.O.D.    10/4/2013          NaN                 0   \n",
       "2  A.I. Artificial Intelligence    6/29/2001  100000000.0  Steven Spielberg   \n",
       "3                       Abandon   10/18/2002   25000000.0    Stephen Gaghan   \n",
       "4                 The Abandoned    2/23/2007          NaN                 0   \n",
       "\n",
       "        distributor  dom_total_gross  domestic_total_adj_gross     genre  \\\n",
       "0               Fox       77222099.0                86741300.0    Action   \n",
       "1   The Film Arcade         175705.0                  187900.0    Comedy   \n",
       "2      Warner Bros.       78616689.0               124036600.0    Sci-Fi   \n",
       "3         Paramount       10727683.0                16488500.0  Thriller   \n",
       "4  After Dark Films        1331137.0                 1727800.0    Horror   \n",
       "\n",
       "   oscar_noms  oscar_wins        ...         winter spring  PG-13  R PG  G  \\\n",
       "0           0         0.0        ...              0      0      1  0  0  0   \n",
       "1           0         0.0        ...              0      0      1  0  0  0   \n",
       "2           2         0.0        ...              0      0      1  0  0  0   \n",
       "3           0         0.0        ...              0      0      1  0  0  0   \n",
       "4           0         0.0        ...              1      0      0  1  0  0   \n",
       "\n",
       "   GP  M/PG  director_prev_nom  director_prev_win  \n",
       "0   0     0                  0                  0  \n",
       "1   0     0                  0                  0  \n",
       "2   0     0                  5                  2  \n",
       "3   0     0                  0                  0  \n",
       "4   0     0                  0                  0  \n",
       "\n",
       "[5 rows x 31 columns]"
      ]
     },
     "execution_count": 29,
     "metadata": {},
     "output_type": "execute_result"
    }
   ],
   "source": [
    "## using the director_dict to fill up the previous director nominations and wins for a movie\n",
    "mainDF2['director'] = directors\n",
    "\n",
    "for director in common_directors:\n",
    "    \n",
    "    oscar_infor = director_dict[director]\n",
    "    temp = mainDF2[mainDF2['director'] == director]\n",
    "    \n",
    "    for i in range(len(temp.index)):\n",
    "        \n",
    "        row = temp.iloc[i]\n",
    "        mainDF2['director_prev_nom'][temp.index[i]]= len([j for j in oscar_infor['oscar_noms'] if j < row.year])\n",
    "        mainDF2['director_prev_win'][temp.index[i]]= len([j for j in oscar_infor['oscar_wins'] if j < row.year])\n",
    "        \n",
    "mainDF2.head()"
   ]
  },
  {
   "cell_type": "code",
   "execution_count": 30,
   "metadata": {},
   "outputs": [],
   "source": [
    "# Exporting the main dataframe to a csv file\n",
    "mainDF2.to_csv('test_final.csv',encoding='utf-8',index=False)"
   ]
  },
  {
   "cell_type": "markdown",
   "metadata": {},
   "source": [
    "# Adding other awards"
   ]
  },
  {
   "cell_type": "markdown",
   "metadata": {},
   "source": [
    "In this section, we'll add other major nominations secured by a movie like Golden Globe, Guild and Bafta. Films.csv contains all the films and Nominations.csv contains all the nominations grabbed for all movies.We'll also be fetching rotten tomatoes audience and critic score for our movies. We'll make a list of films called common_films that have awards and rotten tomatoes information by doing an intersection on the two datasets.\n",
    "Finally  we'lluse data from this common list of films to fill in the missing attributes like other awards info, rotten tomateoes scores in our cleaned movies dataframe.\n",
    "In the end we are left with 1144 movies which have all the awards and rating information"
   ]
  },
  {
   "cell_type": "code",
   "execution_count": 31,
   "metadata": {},
   "outputs": [],
   "source": [
    "#Read datasets\n",
    "films = pd.read_csv('data/movie_data/films.csv')\n",
    "\n",
    "nominations = pd.read_csv('data/movie_data/nominations.csv')\n"
   ]
  },
  {
   "cell_type": "code",
   "execution_count": 32,
   "metadata": {},
   "outputs": [
    {
     "data": {
      "text/plain": [
       "1767"
      ]
     },
     "execution_count": 32,
     "metadata": {},
     "output_type": "execute_result"
    }
   ],
   "source": [
    "# keep only those which have rt_audience_score\n",
    "films = films[films['rt_audience_score']>0.0]\n",
    "len(films)"
   ]
  },
  {
   "cell_type": "code",
   "execution_count": 33,
   "metadata": {},
   "outputs": [
    {
     "data": {
      "text/plain": [
       "1635"
      ]
     },
     "execution_count": 33,
     "metadata": {},
     "output_type": "execute_result"
    }
   ],
   "source": [
    "#keep only those which have rt_critic_score\n",
    "films = films[films['rt_critic_score']>0.0]\n",
    "len(films)"
   ]
  },
  {
   "cell_type": "code",
   "execution_count": 34,
   "metadata": {},
   "outputs": [
    {
     "data": {
      "text/plain": [
       "1816"
      ]
     },
     "execution_count": 34,
     "metadata": {},
     "output_type": "execute_result"
    }
   ],
   "source": [
    "#getting the unique number of films in nominations.csv\n",
    "len(nominations.film.unique())"
   ]
  },
  {
   "cell_type": "code",
   "execution_count": 35,
   "metadata": {},
   "outputs": [],
   "source": [
    "# Getting the films which are common to both nominations and film dataset\n",
    "films_set = set(films['film'])\n",
    "nominations_set = set(nominations['film'])\n",
    "common_films = nominations_set.intersection(films_set)"
   ]
  },
  {
   "cell_type": "code",
   "execution_count": 36,
   "metadata": {},
   "outputs": [
    {
     "data": {
      "text/plain": [
       "array(['Oscar', 'BAFTA', 'Golden Globe', 'Guild'], dtype=object)"
      ]
     },
     "execution_count": 36,
     "metadata": {},
     "output_type": "execute_result"
    }
   ],
   "source": [
    "# Getting the total number of awards\n",
    "awards = nominations.award.unique()\n",
    "awards"
   ]
  },
  {
   "cell_type": "code",
   "execution_count": 37,
   "metadata": {},
   "outputs": [],
   "source": [
    "#getting common films dataframe \n",
    "common_films_df = films[films['film'].isin(common_films)]"
   ]
  },
  {
   "cell_type": "code",
   "execution_count": 38,
   "metadata": {},
   "outputs": [],
   "source": [
    "# Adding other awards- Oscar, BAFTA, Golden Globe and Guild columns to common films dataframe\n",
    "import numpy as np\n",
    "common_films_df.columns\n",
    "for award in awards:\n",
    "    common_films_df[award] = 0"
   ]
  },
  {
   "cell_type": "code",
   "execution_count": 39,
   "metadata": {},
   "outputs": [
    {
     "data": {
      "text/html": [
       "<div>\n",
       "<style>\n",
       "    .dataframe thead tr:only-child th {\n",
       "        text-align: right;\n",
       "    }\n",
       "\n",
       "    .dataframe thead th {\n",
       "        text-align: left;\n",
       "    }\n",
       "\n",
       "    .dataframe tbody tr th {\n",
       "        vertical-align: top;\n",
       "    }\n",
       "</style>\n",
       "<table border=\"1\" class=\"dataframe\">\n",
       "  <thead>\n",
       "    <tr style=\"text-align: right;\">\n",
       "      <th></th>\n",
       "      <th>bom_domestic</th>\n",
       "      <th>bom_foreign</th>\n",
       "      <th>bom_worldwide</th>\n",
       "      <th>box_office</th>\n",
       "      <th>budget</th>\n",
       "      <th>country</th>\n",
       "      <th>film</th>\n",
       "      <th>imdb_score</th>\n",
       "      <th>metacritic_score</th>\n",
       "      <th>mpaa</th>\n",
       "      <th>...</th>\n",
       "      <th>rt_audience_score</th>\n",
       "      <th>rt_critic_score</th>\n",
       "      <th>running_time</th>\n",
       "      <th>stars_count</th>\n",
       "      <th>writers_count</th>\n",
       "      <th>year</th>\n",
       "      <th>Oscar</th>\n",
       "      <th>BAFTA</th>\n",
       "      <th>Golden Globe</th>\n",
       "      <th>Guild</th>\n",
       "    </tr>\n",
       "  </thead>\n",
       "  <tbody>\n",
       "    <tr>\n",
       "      <th>0</th>\n",
       "      <td>NaN</td>\n",
       "      <td>NaN</td>\n",
       "      <td>NaN</td>\n",
       "      <td>5.2 million</td>\n",
       "      <td>3000000</td>\n",
       "      <td>United States</td>\n",
       "      <td>Elmer Gantry</td>\n",
       "      <td>7.9</td>\n",
       "      <td>NaN</td>\n",
       "      <td>APPROVED</td>\n",
       "      <td>...</td>\n",
       "      <td>86.0</td>\n",
       "      <td>96.0</td>\n",
       "      <td>146 minutes</td>\n",
       "      <td>4.0</td>\n",
       "      <td>1.0</td>\n",
       "      <td>1960</td>\n",
       "      <td>4</td>\n",
       "      <td>3</td>\n",
       "      <td>5</td>\n",
       "      <td>0</td>\n",
       "    </tr>\n",
       "    <tr>\n",
       "      <th>1</th>\n",
       "      <td>NaN</td>\n",
       "      <td>NaN</td>\n",
       "      <td>NaN</td>\n",
       "      <td>1,500,000</td>\n",
       "      <td>805000</td>\n",
       "      <td>United Kingdom</td>\n",
       "      <td>Sons and Lovers</td>\n",
       "      <td>7.3</td>\n",
       "      <td>NaN</td>\n",
       "      <td>NaN</td>\n",
       "      <td>...</td>\n",
       "      <td>54.0</td>\n",
       "      <td>75.0</td>\n",
       "      <td>103 minutes</td>\n",
       "      <td>4.0</td>\n",
       "      <td>1.0</td>\n",
       "      <td>1960</td>\n",
       "      <td>5</td>\n",
       "      <td>1</td>\n",
       "      <td>5</td>\n",
       "      <td>0</td>\n",
       "    </tr>\n",
       "    <tr>\n",
       "      <th>2</th>\n",
       "      <td>NaN</td>\n",
       "      <td>NaN</td>\n",
       "      <td>NaN</td>\n",
       "      <td>24.6 million</td>\n",
       "      <td>3000000</td>\n",
       "      <td>United States</td>\n",
       "      <td>The Apartment</td>\n",
       "      <td>8.3</td>\n",
       "      <td>NaN</td>\n",
       "      <td>APPROVED</td>\n",
       "      <td>...</td>\n",
       "      <td>94.0</td>\n",
       "      <td>93.0</td>\n",
       "      <td>125 minutes</td>\n",
       "      <td>3.0</td>\n",
       "      <td>2.0</td>\n",
       "      <td>1960</td>\n",
       "      <td>6</td>\n",
       "      <td>3</td>\n",
       "      <td>4</td>\n",
       "      <td>0</td>\n",
       "    </tr>\n",
       "    <tr>\n",
       "      <th>3</th>\n",
       "      <td>NaN</td>\n",
       "      <td>NaN</td>\n",
       "      <td>NaN</td>\n",
       "      <td>NaN</td>\n",
       "      <td>NaN</td>\n",
       "      <td>United Kingdom</td>\n",
       "      <td>The Entertainer</td>\n",
       "      <td>7.2</td>\n",
       "      <td>NaN</td>\n",
       "      <td>NaN</td>\n",
       "      <td>...</td>\n",
       "      <td>73.0</td>\n",
       "      <td>89.0</td>\n",
       "      <td>107 min., 37 sec.</td>\n",
       "      <td>5.0</td>\n",
       "      <td>1.0</td>\n",
       "      <td>1960</td>\n",
       "      <td>1</td>\n",
       "      <td>1</td>\n",
       "      <td>0</td>\n",
       "      <td>0</td>\n",
       "    </tr>\n",
       "    <tr>\n",
       "      <th>4</th>\n",
       "      <td>NaN</td>\n",
       "      <td>NaN</td>\n",
       "      <td>NaN</td>\n",
       "      <td>2,000,000</td>\n",
       "      <td>2000000</td>\n",
       "      <td>United States</td>\n",
       "      <td>Inherit the Wind</td>\n",
       "      <td>NaN</td>\n",
       "      <td>NaN</td>\n",
       "      <td>NaN</td>\n",
       "      <td>...</td>\n",
       "      <td>91.0</td>\n",
       "      <td>91.0</td>\n",
       "      <td>128 minutes</td>\n",
       "      <td>6.0</td>\n",
       "      <td>1.0</td>\n",
       "      <td>1960</td>\n",
       "      <td>2</td>\n",
       "      <td>2</td>\n",
       "      <td>2</td>\n",
       "      <td>0</td>\n",
       "    </tr>\n",
       "  </tbody>\n",
       "</table>\n",
       "<p>5 rows × 21 columns</p>\n",
       "</div>"
      ],
      "text/plain": [
       "  bom_domestic bom_foreign bom_worldwide    box_office   budget  \\\n",
       "0          NaN         NaN           NaN  5.2 million   3000000   \n",
       "1          NaN         NaN           NaN     1,500,000   805000   \n",
       "2          NaN         NaN           NaN  24.6 million  3000000   \n",
       "3          NaN         NaN           NaN           NaN      NaN   \n",
       "4          NaN         NaN           NaN     2,000,000  2000000   \n",
       "\n",
       "          country              film  imdb_score  metacritic_score      mpaa  \\\n",
       "0   United States      Elmer Gantry         7.9               NaN  APPROVED   \n",
       "1  United Kingdom   Sons and Lovers         7.3               NaN       NaN   \n",
       "2   United States     The Apartment         8.3               NaN  APPROVED   \n",
       "3  United Kingdom   The Entertainer         7.2               NaN       NaN   \n",
       "4   United States  Inherit the Wind         NaN               NaN       NaN   \n",
       "\n",
       "   ...   rt_audience_score  rt_critic_score       running_time stars_count  \\\n",
       "0  ...                86.0             96.0        146 minutes         4.0   \n",
       "1  ...                54.0             75.0        103 minutes         4.0   \n",
       "2  ...                94.0             93.0        125 minutes         3.0   \n",
       "3  ...                73.0             89.0  107 min., 37 sec.         5.0   \n",
       "4  ...                91.0             91.0        128 minutes         6.0   \n",
       "\n",
       "   writers_count  year  Oscar  BAFTA  Golden Globe  Guild  \n",
       "0            1.0  1960      4      3             5      0  \n",
       "1            1.0  1960      5      1             5      0  \n",
       "2            2.0  1960      6      3             4      0  \n",
       "3            1.0  1960      1      1             0      0  \n",
       "4            1.0  1960      2      2             2      0  \n",
       "\n",
       "[5 rows x 21 columns]"
      ]
     },
     "execution_count": 39,
     "metadata": {},
     "output_type": "execute_result"
    }
   ],
   "source": [
    "# Getting the number of other awards nominations - BAFTA,Oscar, Guild and Golden Globe \n",
    "for film in common_films:\n",
    "    matched_films = nominations[nominations['film']==film]\n",
    "    for i in range(0,len(matched_films)):\n",
    "        match = matched_films.iloc[i]\n",
    "        value = common_films_df.loc[common_films_df['film'] == film, match['award'] ] + 1\n",
    "        common_films_df.loc[common_films_df['film'] == film, match['award'] ]= value\n",
    "common_films_df.head()"
   ]
  },
  {
   "cell_type": "code",
   "execution_count": 40,
   "metadata": {},
   "outputs": [
    {
     "data": {
      "text/plain": [
       "963"
      ]
     },
     "execution_count": 40,
     "metadata": {},
     "output_type": "execute_result"
    }
   ],
   "source": [
    "# checking how many films have nominated for oscars out of common films\n",
    "oscar_df = common_films_df[common_films_df['Oscar']>0]\n",
    "len(oscar_df)"
   ]
  },
  {
   "cell_type": "code",
   "execution_count": 41,
   "metadata": {},
   "outputs": [
    {
     "data": {
      "text/html": [
       "<div>\n",
       "<style>\n",
       "    .dataframe thead tr:only-child th {\n",
       "        text-align: right;\n",
       "    }\n",
       "\n",
       "    .dataframe thead th {\n",
       "        text-align: left;\n",
       "    }\n",
       "\n",
       "    .dataframe tbody tr th {\n",
       "        vertical-align: top;\n",
       "    }\n",
       "</style>\n",
       "<table border=\"1\" class=\"dataframe\">\n",
       "  <thead>\n",
       "    <tr style=\"text-align: right;\">\n",
       "      <th></th>\n",
       "      <th>title</th>\n",
       "      <th>release_date</th>\n",
       "      <th>budget</th>\n",
       "      <th>director</th>\n",
       "      <th>distributor</th>\n",
       "      <th>dom_total_gross</th>\n",
       "      <th>domestic_total_adj_gross</th>\n",
       "      <th>genre</th>\n",
       "      <th>oscar_noms</th>\n",
       "      <th>oscar_wins</th>\n",
       "      <th>...</th>\n",
       "      <th>winter</th>\n",
       "      <th>spring</th>\n",
       "      <th>PG-13</th>\n",
       "      <th>R</th>\n",
       "      <th>PG</th>\n",
       "      <th>G</th>\n",
       "      <th>GP</th>\n",
       "      <th>M/PG</th>\n",
       "      <th>director_prev_nom</th>\n",
       "      <th>director_prev_win</th>\n",
       "    </tr>\n",
       "  </thead>\n",
       "  <tbody>\n",
       "    <tr>\n",
       "      <th>0</th>\n",
       "      <td>The A-Team</td>\n",
       "      <td>6/11/2010</td>\n",
       "      <td>110000000.0</td>\n",
       "      <td>Joe Carnahan</td>\n",
       "      <td>Fox</td>\n",
       "      <td>77222099.0</td>\n",
       "      <td>86741300.0</td>\n",
       "      <td>Action</td>\n",
       "      <td>0</td>\n",
       "      <td>0.0</td>\n",
       "      <td>...</td>\n",
       "      <td>0</td>\n",
       "      <td>0</td>\n",
       "      <td>1</td>\n",
       "      <td>0</td>\n",
       "      <td>0</td>\n",
       "      <td>0</td>\n",
       "      <td>0</td>\n",
       "      <td>0</td>\n",
       "      <td>0</td>\n",
       "      <td>0</td>\n",
       "    </tr>\n",
       "    <tr>\n",
       "      <th>1</th>\n",
       "      <td>A.C.O.D.</td>\n",
       "      <td>10/4/2013</td>\n",
       "      <td>NaN</td>\n",
       "      <td>0</td>\n",
       "      <td>The Film Arcade</td>\n",
       "      <td>175705.0</td>\n",
       "      <td>187900.0</td>\n",
       "      <td>Comedy</td>\n",
       "      <td>0</td>\n",
       "      <td>0.0</td>\n",
       "      <td>...</td>\n",
       "      <td>0</td>\n",
       "      <td>0</td>\n",
       "      <td>1</td>\n",
       "      <td>0</td>\n",
       "      <td>0</td>\n",
       "      <td>0</td>\n",
       "      <td>0</td>\n",
       "      <td>0</td>\n",
       "      <td>0</td>\n",
       "      <td>0</td>\n",
       "    </tr>\n",
       "    <tr>\n",
       "      <th>2</th>\n",
       "      <td>A.I. Artificial Intelligence</td>\n",
       "      <td>6/29/2001</td>\n",
       "      <td>100000000.0</td>\n",
       "      <td>Steven Spielberg</td>\n",
       "      <td>Warner Bros.</td>\n",
       "      <td>78616689.0</td>\n",
       "      <td>124036600.0</td>\n",
       "      <td>Sci-Fi</td>\n",
       "      <td>2</td>\n",
       "      <td>0.0</td>\n",
       "      <td>...</td>\n",
       "      <td>0</td>\n",
       "      <td>0</td>\n",
       "      <td>1</td>\n",
       "      <td>0</td>\n",
       "      <td>0</td>\n",
       "      <td>0</td>\n",
       "      <td>0</td>\n",
       "      <td>0</td>\n",
       "      <td>5</td>\n",
       "      <td>2</td>\n",
       "    </tr>\n",
       "    <tr>\n",
       "      <th>3</th>\n",
       "      <td>Abandon</td>\n",
       "      <td>10/18/2002</td>\n",
       "      <td>25000000.0</td>\n",
       "      <td>Stephen Gaghan</td>\n",
       "      <td>Paramount</td>\n",
       "      <td>10727683.0</td>\n",
       "      <td>16488500.0</td>\n",
       "      <td>Thriller</td>\n",
       "      <td>0</td>\n",
       "      <td>0.0</td>\n",
       "      <td>...</td>\n",
       "      <td>0</td>\n",
       "      <td>0</td>\n",
       "      <td>1</td>\n",
       "      <td>0</td>\n",
       "      <td>0</td>\n",
       "      <td>0</td>\n",
       "      <td>0</td>\n",
       "      <td>0</td>\n",
       "      <td>0</td>\n",
       "      <td>0</td>\n",
       "    </tr>\n",
       "    <tr>\n",
       "      <th>4</th>\n",
       "      <td>The Abandoned</td>\n",
       "      <td>2/23/2007</td>\n",
       "      <td>NaN</td>\n",
       "      <td>0</td>\n",
       "      <td>After Dark Films</td>\n",
       "      <td>1331137.0</td>\n",
       "      <td>1727800.0</td>\n",
       "      <td>Horror</td>\n",
       "      <td>0</td>\n",
       "      <td>0.0</td>\n",
       "      <td>...</td>\n",
       "      <td>1</td>\n",
       "      <td>0</td>\n",
       "      <td>0</td>\n",
       "      <td>1</td>\n",
       "      <td>0</td>\n",
       "      <td>0</td>\n",
       "      <td>0</td>\n",
       "      <td>0</td>\n",
       "      <td>0</td>\n",
       "      <td>0</td>\n",
       "    </tr>\n",
       "  </tbody>\n",
       "</table>\n",
       "<p>5 rows × 31 columns</p>\n",
       "</div>"
      ],
      "text/plain": [
       "                          title release_date       budget          director  \\\n",
       "0                    The A-Team    6/11/2010  110000000.0      Joe Carnahan   \n",
       "1                      A.C.O.D.    10/4/2013          NaN                 0   \n",
       "2  A.I. Artificial Intelligence    6/29/2001  100000000.0  Steven Spielberg   \n",
       "3                       Abandon   10/18/2002   25000000.0    Stephen Gaghan   \n",
       "4                 The Abandoned    2/23/2007          NaN                 0   \n",
       "\n",
       "        distributor  dom_total_gross  domestic_total_adj_gross     genre  \\\n",
       "0               Fox       77222099.0                86741300.0    Action   \n",
       "1   The Film Arcade         175705.0                  187900.0    Comedy   \n",
       "2      Warner Bros.       78616689.0               124036600.0    Sci-Fi   \n",
       "3         Paramount       10727683.0                16488500.0  Thriller   \n",
       "4  After Dark Films        1331137.0                 1727800.0    Horror   \n",
       "\n",
       "   oscar_noms  oscar_wins        ...         winter spring  PG-13  R PG  G  \\\n",
       "0           0         0.0        ...              0      0      1  0  0  0   \n",
       "1           0         0.0        ...              0      0      1  0  0  0   \n",
       "2           2         0.0        ...              0      0      1  0  0  0   \n",
       "3           0         0.0        ...              0      0      1  0  0  0   \n",
       "4           0         0.0        ...              1      0      0  1  0  0   \n",
       "\n",
       "   GP  M/PG  director_prev_nom  director_prev_win  \n",
       "0   0     0                  0                  0  \n",
       "1   0     0                  0                  0  \n",
       "2   0     0                  5                  2  \n",
       "3   0     0                  0                  0  \n",
       "4   0     0                  0                  0  \n",
       "\n",
       "[5 rows x 31 columns]"
      ]
     },
     "execution_count": 41,
     "metadata": {},
     "output_type": "execute_result"
    }
   ],
   "source": [
    "# loading the cleaned dataset of films\n",
    "cleaned_films = mainDF2\n",
    "cleaned_films.head()"
   ]
  },
  {
   "cell_type": "code",
   "execution_count": 42,
   "metadata": {},
   "outputs": [],
   "source": [
    "# Adding other awards- Oscar, BAFTA, Golden Globe and Guild columns to cleaned films dataframe and \n",
    "# setting the default count to 0\n",
    "for award in awards:\n",
    "    cleaned_films[award] = 0"
   ]
  },
  {
   "cell_type": "code",
   "execution_count": 43,
   "metadata": {},
   "outputs": [],
   "source": [
    "# Fetching films common to cleaned movies dataframe and common_films_df dataframe\n",
    "clean_common_films = common_films_df[common_films_df['film'].isin(cleaned_films['title'])]"
   ]
  },
  {
   "cell_type": "code",
   "execution_count": 44,
   "metadata": {},
   "outputs": [
    {
     "data": {
      "text/plain": [
       "1144"
      ]
     },
     "execution_count": 44,
     "metadata": {},
     "output_type": "execute_result"
    }
   ],
   "source": [
    "len(clean_common_films)"
   ]
  },
  {
   "cell_type": "code",
   "execution_count": 45,
   "metadata": {},
   "outputs": [
    {
     "data": {
      "text/plain": [
       "1144"
      ]
     },
     "execution_count": 45,
     "metadata": {},
     "output_type": "execute_result"
    }
   ],
   "source": [
    "# Making a list of  films that are a part of cleaned_movies dataframe\n",
    "# Keys: film_names\n",
    "# Values: awards, rt_audience_score, rt_critic_score\n",
    "# Sample format:\n",
    "# cleaned_films_dict = { \"titanic\":{'BAFTA': 1, 'Guild:2', 'Golden Globe:3','rt_audience_score: 65.0,\n",
    "#                                  'rt_critic_score': 85.9}}\n",
    "\n",
    "cleaned_films_dict={}\n",
    "for i in range(0,len(clean_common_films)):\n",
    "    film = clean_common_films.iloc[i]\n",
    "    film_name = film['film']\n",
    "    cleaned_films_dict[film_name]={}\n",
    "    for award in awards:\n",
    "        cleaned_films_dict[film_name][award]= film[award]\n",
    "    cleaned_films_dict[film_name]['rt_audience_score'] = film['rt_audience_score']\n",
    "    cleaned_films_dict[film_name]['rt_critic_score'] = film['rt_critic_score']\n",
    "\n",
    "        \n",
    "len(cleaned_films_dict)"
   ]
  },
  {
   "cell_type": "code",
   "execution_count": 46,
   "metadata": {},
   "outputs": [],
   "source": [
    "# Filling up missing other awards count, rotten tomatoes critic score , rotten tomatoes audience score\n",
    "# to the cleaned movies dataframe\n",
    "for key, value in cleaned_films_dict.items():\n",
    "    for award in awards:\n",
    "        cleaned_films.loc[cleaned_films['title']==key,award]=value[award]\n",
    "    cleaned_films.loc[cleaned_films['title']==key, 'rt_critic_score'] = value['rt_critic_score']\n",
    "    cleaned_films.loc[cleaned_films['title']==key, 'rt_audience_score'] = value['rt_audience_score'\n",
    "                                                                       ]"
   ]
  },
  {
   "cell_type": "code",
   "execution_count": 47,
   "metadata": {},
   "outputs": [
    {
     "name": "stdout",
     "output_type": "stream",
     "text": [
      "Oscar:799\n",
      "BAFTA:584\n",
      "Golden Globe:1076\n",
      "Guild:362\n"
     ]
    }
   ],
   "source": [
    "# Fetching the number of films nominted for eaach categrory of awards\n",
    "for award in awards:\n",
    "    print(\"{}:{}\".format(award,len(cleaned_films[cleaned_films[award]>0])))"
   ]
  },
  {
   "cell_type": "code",
   "execution_count": 48,
   "metadata": {},
   "outputs": [
    {
     "data": {
      "text/plain": [
       "799"
      ]
     },
     "execution_count": 48,
     "metadata": {},
     "output_type": "execute_result"
    }
   ],
   "source": [
    "oscar_df = cleaned_films[cleaned_films['Oscar']>0]\n",
    "len(oscar_df)"
   ]
  },
  {
   "cell_type": "code",
   "execution_count": 49,
   "metadata": {},
   "outputs": [
    {
     "data": {
      "text/plain": [
       "1164"
      ]
     },
     "execution_count": 49,
     "metadata": {},
     "output_type": "execute_result"
    }
   ],
   "source": [
    "# Getting the movies which have mismatched oscar_noms and Oscar fields\n",
    "mismatched_films=[]\n",
    "for i in range(0,len(cleaned_films)):\n",
    "    film = cleaned_films.iloc[i]\n",
    "#     print(film['title'])\n",
    "#     print(film['Oscar'])\n",
    "#     print(film['oscar_noms'])\n",
    "#     print(\"__________________\")\n",
    "    if film['oscar_noms']!= film['Oscar']:\n",
    "            mismatched_films.append(film['title'])\n",
    "        \n",
    "\n",
    "len(mismatched_films)       "
   ]
  },
  {
   "cell_type": "code",
   "execution_count": 50,
   "metadata": {},
   "outputs": [
    {
     "data": {
      "text/plain": [
       "['A.I. Artificial Intelligence',\n",
       " 'The Abyss',\n",
       " 'The Accidental Tourist',\n",
       " 'Across the Universe',\n",
       " 'Adaptation.']"
      ]
     },
     "execution_count": 50,
     "metadata": {},
     "output_type": "execute_result"
    }
   ],
   "source": [
    "mismatched_films[:5]\n"
   ]
  },
  {
   "cell_type": "code",
   "execution_count": 51,
   "metadata": {},
   "outputs": [],
   "source": [
    "# Keeping the max of oscar_noms and Oscar fields\n",
    "# since both specify the number of oscar nominations and \n",
    "# it makes sense to keep only one field and drop the redundant column later\n",
    "test_cleaned_films = cleaned_films.copy()\n",
    "for i in range(0,len(test_cleaned_films)):\n",
    "    film = test_cleaned_films.iloc[i]\n",
    "    if film['oscar_noms']!= film['Oscar']:\n",
    "        noms = np.maximum(film['oscar_noms'],film['Oscar'])\n",
    "        test_cleaned_films.loc[test_cleaned_films['title']==film['title'],'oscar_noms'] = noms\n",
    "        test_cleaned_films.loc[test_cleaned_films['title']==film['title'],'Oscar'] = noms\n",
    "                    "
   ]
  },
  {
   "cell_type": "code",
   "execution_count": 52,
   "metadata": {},
   "outputs": [
    {
     "data": {
      "text/plain": [
       "0"
      ]
     },
     "execution_count": 52,
     "metadata": {},
     "output_type": "execute_result"
    }
   ],
   "source": [
    "# Check if there is any mismatch still between oscar_noms and Oscar fields\n",
    "mismatched_films=[]\n",
    "for i in range(0,len(test_cleaned_films)):\n",
    "    film = test_cleaned_films.iloc[i]\n",
    "    if film['oscar_noms']!= film['Oscar']:\n",
    "            mismatched_films.append(film['title'])\n",
    "        \n",
    "\n",
    "len(mismatched_films)    "
   ]
  },
  {
   "cell_type": "code",
   "execution_count": 53,
   "metadata": {},
   "outputs": [
    {
     "data": {
      "text/plain": [
       "1574"
      ]
     },
     "execution_count": 53,
     "metadata": {},
     "output_type": "execute_result"
    }
   ],
   "source": [
    "len(test_cleaned_films[test_cleaned_films['oscar_noms']>0])"
   ]
  },
  {
   "cell_type": "code",
   "execution_count": 54,
   "metadata": {},
   "outputs": [
    {
     "data": {
      "text/plain": [
       "1354"
      ]
     },
     "execution_count": 54,
     "metadata": {},
     "output_type": "execute_result"
    }
   ],
   "source": [
    "len(cleaned_films[cleaned_films['oscar_noms']>0])"
   ]
  },
  {
   "cell_type": "code",
   "execution_count": 55,
   "metadata": {},
   "outputs": [],
   "source": [
    "# drop the redundant column - 'Oscar' since we already have 'oscar_noms'\n",
    "test_cleaned_films.drop('Oscar',axis=1,inplace=True)"
   ]
  },
  {
   "cell_type": "code",
   "execution_count": 56,
   "metadata": {},
   "outputs": [],
   "source": [
    "# Replacing NaNs by 0 in following fields since we cannot use average to determine the relative values\n",
    "# 1.rt_audience_score\n",
    "# 2. rt_critic_score\n",
    "# 3. budget\n",
    "# 4. domestic_total_adj_gross\n",
    "# 5. dom_total_gross\n",
    "test_cleaned_films.rt_audience_score.fillna(0.0, inplace=True)\n",
    "test_cleaned_films.rt_critic_score.fillna(0.0, inplace=True)\n",
    "test_cleaned_films.budget.fillna(0.0, inplace=True)\n",
    "test_cleaned_films.dom_total_gross.fillna(0.0, inplace=True)\n",
    "test_cleaned_films.domestic_total_adj_gross.fillna(0.0, inplace=True)\n",
    "\n"
   ]
  },
  {
   "cell_type": "code",
   "execution_count": 57,
   "metadata": {},
   "outputs": [
    {
     "data": {
      "text/plain": [
       "Index(['title', 'release_date', 'budget', 'director', 'distributor',\n",
       "       'dom_total_gross', 'domestic_total_adj_gross', 'genre', 'oscar_noms',\n",
       "       'oscar_wins', 'producers', 'rating', 'runtime_mins', 'theaters',\n",
       "       'clean_rating', 'new_genre', 'days_in_theater', 'year', 'summer',\n",
       "       'fall', 'holiday', 'winter', 'spring', 'PG-13', 'R', 'PG', 'G', 'GP',\n",
       "       'M/PG', 'director_prev_nom', 'director_prev_win', 'BAFTA',\n",
       "       'Golden Globe', 'Guild', 'rt_critic_score', 'rt_audience_score'],\n",
       "      dtype='object')"
      ]
     },
     "execution_count": 57,
     "metadata": {},
     "output_type": "execute_result"
    }
   ],
   "source": [
    "test_cleaned_films.columns"
   ]
  },
  {
   "cell_type": "code",
   "execution_count": 58,
   "metadata": {},
   "outputs": [],
   "source": [
    "# Creating a Final Data frame\n",
    "finalDF = test_cleaned_films"
   ]
  },
  {
   "cell_type": "code",
   "execution_count": 59,
   "metadata": {},
   "outputs": [
    {
     "data": {
      "text/plain": [
       "(10816, 36)"
      ]
     },
     "execution_count": 59,
     "metadata": {},
     "output_type": "execute_result"
    }
   ],
   "source": [
    "# Dropping films with Genre ='Foriegn' , considering only films produced in USA \n",
    "# since we are not accounting for foriegn gross \n",
    "# First level filtering on Genre\n",
    "finalDF = finalDF[finalDF['genre']!= 'Foreign']\n",
    "finalDF.shape"
   ]
  },
  {
   "cell_type": "code",
   "execution_count": 60,
   "metadata": {},
   "outputs": [
    {
     "data": {
      "text/plain": [
       "(10749, 36)"
      ]
     },
     "execution_count": 60,
     "metadata": {},
     "output_type": "execute_result"
    }
   ],
   "source": [
    "# Dropping films with New Genre ='Foriegn' , considering only films produced in USA \n",
    "# since we are not accounting for foriegn gross \n",
    "# Second level filtering on Genre\n",
    "\n",
    "finalDF = finalDF[finalDF['new_genre']!= 'Foreign']\n",
    "finalDF.shape"
   ]
  },
  {
   "cell_type": "code",
   "execution_count": 61,
   "metadata": {},
   "outputs": [],
   "source": [
    "## Encode Genre, Producers, Directors since they are strings and represent categorial data\n",
    "dir_dict = {d:i for i, d in enumerate(list(finalDF.director.unique()))}\n",
    "genre_dict = {g: i for i, g in enumerate(list(finalDF.new_genre.unique()))}\n",
    "producre_dict = {p: i for i, p in enumerate(list(finalDF.producers.unique()))}\n",
    "\n",
    "encoded_director = finalDF.director.map(dir_dict)\n",
    "encoded_genre = finalDF.new_genre.map(genre_dict)\n",
    "encoded_prod = finalDF.producers.map(producre_dict)\n",
    "\n",
    "finalDF['encoded_director'] = encoded_director\n",
    "finalDF['encoded_genre'] = encoded_genre\n",
    "finalDF['encoded_producer'] = encoded_prod"
   ]
  },
  {
   "cell_type": "code",
   "execution_count": 62,
   "metadata": {},
   "outputs": [],
   "source": [
    "# ## Normalize Encoded Data (Genre, Producers, Directors) and target variable\n",
    "\n",
    "# encoded_data =['encoded_director','encoded_genre','encoded_producer']\n",
    "# for e in encoded_data:\n",
    "#     finalDF[e]=((finalDF[e]-finalDF[e].min())/(finalDF[e].max()-finalDF[e].min()))\n",
    "    \n",
    "# # ## Normalize Target Variable\n",
    "# # mainDF2['oscar_noms']=((mainDF2['oscar_noms']-mainDF2['oscar_noms'].min())/(mainDF2['oscar_noms'].max()-mainDF2['oscar_noms'].min()))"
   ]
  },
  {
   "cell_type": "code",
   "execution_count": 63,
   "metadata": {},
   "outputs": [],
   "source": [
    "#Filling NaNs in 'runtime_mins' column by mean of all the entries since most of the films have\n",
    "#have a runtime that falls into a particular range\n",
    "average_runtime = finalDF.runtime_mins.mean()\n",
    "finalDF.runtime_mins.fillna(average_runtime, inplace=True)\n",
    "\n",
    "# Filling NaNs in 'dom_total_gross' and  'domestic_total_adj_gross' columns by 0\n",
    "finalDF.budget.fillna(0,inplace=True)\n",
    "finalDF.dom_total_gross.fillna(0,inplace=True)\n",
    "finalDF.domestic_total_adj_gross.fillna(0,inplace=True)"
   ]
  },
  {
   "cell_type": "code",
   "execution_count": 64,
   "metadata": {},
   "outputs": [],
   "source": [
    "#Save Final Cleaned data to train models \n",
    "file_name =\"data/final_clean_data/final_clean_data.csv\"\n",
    "finalDF.to_csv(file_name, encoding='utf-8', index= False)"
   ]
  }
 ],
 "metadata": {
  "kernelspec": {
   "display_name": "Python 3",
   "language": "python",
   "name": "python3"
  },
  "language_info": {
   "codemirror_mode": {
    "name": "ipython",
    "version": 3
   },
   "file_extension": ".py",
   "mimetype": "text/x-python",
   "name": "python",
   "nbconvert_exporter": "python",
   "pygments_lexer": "ipython3",
   "version": "3.6.2"
  }
 },
 "nbformat": 4,
 "nbformat_minor": 2
}
